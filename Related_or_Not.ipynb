{
 "cells": [
  {
   "cell_type": "code",
   "execution_count": 1,
   "metadata": {},
   "outputs": [],
   "source": [
    "import pandas as pd\n",
    "\n",
    "train_fname_method_related_or_not = 'data2/method/train.csv'"
   ]
  },
  {
   "cell_type": "code",
   "execution_count": 2,
   "metadata": {},
   "outputs": [],
   "source": [
    "raw_df_method_related_or_not = pd.read_csv(train_fname_method_related_or_not)"
   ]
  },
  {
   "cell_type": "code",
   "execution_count": 3,
   "metadata": {},
   "outputs": [
    {
     "data": {
      "text/plain": [
       "0      give me a sample code to update  students details\n",
       "1       give me a sample code to Delete students details\n",
       "2          give me a sample code to add students details\n",
       "3      give me a sample code to get all students details\n",
       "4      Provide a sample OpenAPI specification for a R...\n",
       "                             ...                        \n",
       "188    Draft an OpenAPI specification for a REST API ...\n",
       "189    Create an OpenAPI specification for a REST API...\n",
       "190    Generate an OpenAPI specification for a REST A...\n",
       "191    API that retrieves information about student c...\n",
       "192    Write OpenAPI specification for a REST API tha...\n",
       "Name: query, Length: 193, dtype: object"
      ]
     },
     "execution_count": 3,
     "metadata": {},
     "output_type": "execute_result"
    }
   ],
   "source": [
    "text_data_method_related_or_not = raw_df_method_related_or_not['query']\n",
    "\n",
    "text_data_method_related_or_not"
   ]
  },
  {
   "cell_type": "code",
   "execution_count": 4,
   "metadata": {},
   "outputs": [
    {
     "name": "stderr",
     "output_type": "stream",
     "text": [
      "c:\\Users\\Admin\\anaconda3\\Lib\\site-packages\\transformers\\utils\\generic.py:260: UserWarning: torch.utils._pytree._register_pytree_node is deprecated. Please use torch.utils._pytree.register_pytree_node instead.\n",
      "  torch.utils._pytree._register_pytree_node(\n"
     ]
    },
    {
     "data": {
      "text/plain": [
       "(193, 768)"
      ]
     },
     "execution_count": 4,
     "metadata": {},
     "output_type": "execute_result"
    }
   ],
   "source": [
    "from sentence_transformers import SentenceTransformer\n",
    "# initialize sentence transformer model\n",
    "model_method_related_or_not = SentenceTransformer('bert-base-nli-mean-tokens')\n",
    "# create sentence embeddings\n",
    "sentence_embeddings_method_related_or_not = model_method_related_or_not.encode(text_data_method_related_or_not)\n",
    "sentence_embeddings_method_related_or_not.shape"
   ]
  },
  {
   "cell_type": "code",
   "execution_count": 5,
   "metadata": {},
   "outputs": [],
   "source": [
    "import faiss"
   ]
  },
  {
   "cell_type": "code",
   "execution_count": 6,
   "metadata": {},
   "outputs": [],
   "source": [
    "d_method_related_or_not = sentence_embeddings_method_related_or_not.shape[1]\n",
    "index_method_related_or_not = faiss.IndexFlatIP(d_method_related_or_not)"
   ]
  },
  {
   "cell_type": "code",
   "execution_count": 7,
   "metadata": {},
   "outputs": [
    {
     "data": {
      "text/plain": [
       "True"
      ]
     },
     "execution_count": 7,
     "metadata": {},
     "output_type": "execute_result"
    }
   ],
   "source": [
    "index_method_related_or_not.is_trained"
   ]
  },
  {
   "cell_type": "code",
   "execution_count": 8,
   "metadata": {},
   "outputs": [],
   "source": [
    "index_method_related_or_not.add(sentence_embeddings_method_related_or_not)"
   ]
  },
  {
   "cell_type": "code",
   "execution_count": 9,
   "metadata": {},
   "outputs": [],
   "source": [
    "def Related_OR_Not(sentence):\n",
    "    Related = 0\n",
    "    k_method_related_or_not = 1\n",
    "    xq_method_related_or_not = model_method_related_or_not.encode([sentence])\n",
    "    D_method_related_or_not, I_method_related_or_not = index_method_related_or_not.search(xq_method_related_or_not, k_method_related_or_not)\n",
    "    \n",
    "    print(I_method_related_or_not)\n",
    "    if (I_method_related_or_not[0] == -1) :\n",
    "         Related = 1\n",
    "\n",
    "\n",
    "    get_cosine_value =  Get_cosine(xq_method_related_or_not,I_method_related_or_not)\n",
    "    print(get_cosine_value)\n",
    "\n",
    "    return Related"
   ]
  },
  {
   "cell_type": "code",
   "execution_count": 10,
   "metadata": {},
   "outputs": [],
   "source": [
    "import numpy as np\n",
    "from numpy.linalg import norm"
   ]
  },
  {
   "cell_type": "code",
   "execution_count": 11,
   "metadata": {},
   "outputs": [],
   "source": [
    "def Get_cosine(xq,I):\n",
    "    cosine = np.dot(sentence_embeddings_method_related_or_not[I[0]], xq[0]) / (np.linalg.norm(sentence_embeddings_method_related_or_not[I[0]]) * np.linalg.norm(xq[0]))\n",
    "    cosine_value = cosine[0]  # Extracting the value from the array\n",
    "\n",
    "    return cosine_value"
   ]
  },
  {
   "cell_type": "code",
   "execution_count": 15,
   "metadata": {},
   "outputs": [
    {
     "name": "stdout",
     "output_type": "stream",
     "text": [
      "[[88]]\n",
      "0.5510295\n",
      "0\n"
     ]
    }
   ],
   "source": [
    "print(Related_OR_Not('hi'))"
   ]
  }
 ],
 "metadata": {
  "kernelspec": {
   "display_name": "base",
   "language": "python",
   "name": "python3"
  },
  "language_info": {
   "codemirror_mode": {
    "name": "ipython",
    "version": 3
   },
   "file_extension": ".py",
   "mimetype": "text/x-python",
   "name": "python",
   "nbconvert_exporter": "python",
   "pygments_lexer": "ipython3",
   "version": "3.11.5"
  }
 },
 "nbformat": 4,
 "nbformat_minor": 2
}
