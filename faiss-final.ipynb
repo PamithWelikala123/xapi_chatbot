{
 "cells": [
  {
   "cell_type": "markdown",
   "metadata": {},
   "source": [
    "Loading Models"
   ]
  },
  {
   "cell_type": "code",
   "execution_count": 20,
   "metadata": {},
   "outputs": [],
   "source": [
    "%run new(Faiss)_4.ipynb"
   ]
  },
  {
   "cell_type": "code",
   "execution_count": 21,
   "metadata": {},
   "outputs": [],
   "source": [
    "%run save_the_similarity_score.ipynb"
   ]
  },
  {
   "cell_type": "code",
   "execution_count": 22,
   "metadata": {},
   "outputs": [
    {
     "name": "stderr",
     "output_type": "stream",
     "text": [
      "Error during conversion: ValueError('Queue is full! Please try again.')\n",
      "Error during conversion: ValueError('Queue is full! Please try again.')\n"
     ]
    }
   ],
   "source": [
    "%run finding_the_method_in_faiss_2.ipynb"
   ]
  },
  {
   "cell_type": "code",
   "execution_count": 23,
   "metadata": {},
   "outputs": [],
   "source": [
    "%run responce.ipynb"
   ]
  },
  {
   "cell_type": "code",
   "execution_count": 24,
   "metadata": {},
   "outputs": [],
   "source": [
    "%run Connecting_Open_AI.ipynb"
   ]
  },
  {
   "cell_type": "code",
   "execution_count": 25,
   "metadata": {},
   "outputs": [],
   "source": [
    "#%run Related_or_Not.ipynb"
   ]
  },
  {
   "cell_type": "markdown",
   "metadata": {},
   "source": [
    "User Input"
   ]
  },
  {
   "cell_type": "code",
   "execution_count": 26,
   "metadata": {},
   "outputs": [],
   "source": [
    "# sentence = 'give me a code to get  menu details'"
   ]
  },
  {
   "cell_type": "code",
   "execution_count": 27,
   "metadata": {},
   "outputs": [],
   "source": [
    "# related = 0\n",
    "# is_userinput_related  = chatbot_to_Related_Or_Not(sentence)\n",
    "# print(is_userinput_related)\n",
    "# if (is_userinput_related.lower() != 'yes'):\n",
    "#     print('User input is not related to the Open Api Specification Code Generation')\n",
    "#     related=0"
   ]
  },
  {
   "cell_type": "markdown",
   "metadata": {},
   "source": [
    "Getting the Method"
   ]
  },
  {
   "cell_type": "code",
   "execution_count": 28,
   "metadata": {},
   "outputs": [],
   "source": [
    "# if(related ==0):\n",
    "#     method = Function_Faiss_Method_Open_Ai(sentence)\n",
    "#     correct_method = most_relevent_method(sentence,method[0],method[1],method[2],method[3])\n"
   ]
  },
  {
   "cell_type": "markdown",
   "metadata": {},
   "source": [
    "Getting the Relevent Path "
   ]
  },
  {
   "cell_type": "code",
   "execution_count": 29,
   "metadata": {},
   "outputs": [],
   "source": [
    "# if(related ==0):\n",
    "#     cosinevalue,path,tag = Getting_relevent_path(sentence)\n",
    "#     cosinevalue,path,tag"
   ]
  },
  {
   "cell_type": "markdown",
   "metadata": {},
   "source": [
    "getting the similarity Score "
   ]
  },
  {
   "cell_type": "code",
   "execution_count": 30,
   "metadata": {},
   "outputs": [],
   "source": [
    "# if(related ==0):\n",
    "#     get_similarity_score = similarity_score()\n",
    "#     get_similarity_score"
   ]
  },
  {
   "cell_type": "code",
   "execution_count": 31,
   "metadata": {},
   "outputs": [],
   "source": [
    "# if(related ==0):\n",
    "#     if cosinevalue > get_similarity_score:\n",
    "#         print(\"This is the relevent path for Your Query :\",path)\n",
    "#     # save_similarity_score(cosinevalue)\n",
    "    \n",
    "\n",
    "#     else:\n",
    "#         print(\"This is the relevent path for Your Query :\",path)\n",
    "#         user_question = input(\"Is this what you expected [Yes/No] : \")\n",
    "\n",
    "#         if(user_question.lower() == 'yes'):\n",
    "#             print('hi')\n",
    "#         #save_similarity_score(cosinevalue) \n",
    "        \n",
    "#         else:\n",
    "#             user_path = input(\"What is the Relevent Path :\")\n",
    "#             path,tag = New_user_Method(user_path)\n",
    "#             print(\"You Entered path is :\",path)       "
   ]
  },
  {
   "cell_type": "code",
   "execution_count": 32,
   "metadata": {},
   "outputs": [],
   "source": [
    "# if(related ==0):\n",
    "#     user_responce = input(\"Do You Want to Add Your Own Responce Code [Yes/No] : \")\n",
    "\n",
    "#     if (user_responce.lower()=='yes'):\n",
    "#         get_user_responce = get_own_responses(correct_method,path)\n",
    "\n",
    "#     else:\n",
    "#          get_user_responce = get_responses(correct_method,path) "
   ]
  },
  {
   "cell_type": "code",
   "execution_count": 33,
   "metadata": {},
   "outputs": [],
   "source": [
    "# if(related ==0):\n",
    "#     openapi_spec = {\n",
    "#             \"paths\": {\n",
    "#                 f\" /{path}\": {\n",
    "#                     correct_method: {\n",
    "#                         \" tags\": f\"{tag}\",\n",
    "#                         \"  responses\": get_user_responce\n",
    "#                     }\n",
    "#                 }\n",
    "#             }\n",
    "#         }"
   ]
  },
  {
   "cell_type": "code",
   "execution_count": 34,
   "metadata": {},
   "outputs": [],
   "source": [
    "# if(related ==0):\n",
    "#     print(no)"
   ]
  },
  {
   "cell_type": "code",
   "execution_count": null,
   "metadata": {},
   "outputs": [],
   "source": [
    "import json"
   ]
  },
  {
   "cell_type": "code",
   "execution_count": 37,
   "metadata": {},
   "outputs": [],
   "source": [
    "def finalcode_generation(sentence):\n",
    "    related = 0\n",
    "    is_userinput_related  = chatbot_to_Related_Or_Not(sentence)\n",
    "    \n",
    "    if (is_userinput_related.lower() != 'yes'):\n",
    "        print('User input is not related to the Open Api Specification Code Generation')\n",
    "        related=1\n",
    "\n",
    "        \n",
    "\n",
    "    if(related ==0):\n",
    "        method = Function_Faiss_Method_Open_Ai(sentence)\n",
    "        correct_method = most_relevent_method(sentence,method[0],method[1],method[2],method[3])\n",
    "        cosinevalue,path,tag = Getting_relevent_path(sentence)\n",
    "        get_similarity_score = similarity_score()\n",
    "\n",
    "\n",
    "        if cosinevalue > get_similarity_score:\n",
    "             save_similarity_score(cosinevalue)\n",
    "        \n",
    "\n",
    "        else:\n",
    "            user_question = input(\"Is this what you expected [Yes/No] : \")\n",
    "\n",
    "            if(user_question.lower() == 'yes'):\n",
    "                save_similarity_score(cosinevalue) \n",
    "            \n",
    "            else:\n",
    "                user_path = input(\"What is the Relevent Path :\")\n",
    "                path,tag = New_user_Method(user_path)\n",
    "\n",
    "\n",
    "        user_responce = input(\"Do You Want to Add Your Own Responce Code [Yes/No] : \")\n",
    "\n",
    "        if (user_responce.lower()=='yes'):\n",
    "            get_user_responce = get_own_responses(correct_method,path)\n",
    "\n",
    "        else:\n",
    "            get_user_responce = get_responses(correct_method,path) \n",
    "\n",
    "        openapi_spec = {\n",
    "            \"paths\": {\n",
    "                f\" /{path}\": {\n",
    "                    correct_method: {\n",
    "                        \" tags\": f\"{tag}\",\n",
    "                        \"  responses\": get_user_responce\n",
    "                    }\n",
    "                }\n",
    "            }\n",
    "        }\n",
    "\n",
    "        print(json.dumps(openapi_spec, indent=2))\n",
    "        \n",
    "        return openapi_spec\n",
    "    \n",
    "    \n",
    "        \n",
    "\n",
    "    "
   ]
  }
 ],
 "metadata": {
  "kernelspec": {
   "display_name": "base",
   "language": "python",
   "name": "python3"
  },
  "language_info": {
   "codemirror_mode": {
    "name": "ipython",
    "version": 3
   },
   "file_extension": ".py",
   "mimetype": "text/x-python",
   "name": "python",
   "nbconvert_exporter": "python",
   "pygments_lexer": "ipython3",
   "version": "3.11.5"
  }
 },
 "nbformat": 4,
 "nbformat_minor": 2
}
