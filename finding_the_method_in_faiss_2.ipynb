{
 "cells": [
  {
   "cell_type": "code",
   "execution_count": 27,
   "metadata": {},
   "outputs": [],
   "source": [
    "import pandas as pd\n",
    "\n",
    "train_fname_method = 'data2/method/train.csv'"
   ]
  },
  {
   "cell_type": "code",
   "execution_count": 28,
   "metadata": {},
   "outputs": [],
   "source": [
    "methods = ['Get','Put','Post','Delete']"
   ]
  },
  {
   "cell_type": "code",
   "execution_count": 29,
   "metadata": {},
   "outputs": [],
   "source": [
    "raw_df_method = pd.read_csv(train_fname_method)"
   ]
  },
  {
   "cell_type": "code",
   "execution_count": 30,
   "metadata": {},
   "outputs": [
    {
     "data": {
      "text/plain": [
       "type\n",
       "1    54\n",
       "0    52\n",
       "2    46\n",
       "3    41\n",
       "Name: count, dtype: int64"
      ]
     },
     "execution_count": 30,
     "metadata": {},
     "output_type": "execute_result"
    }
   ],
   "source": [
    "raw_df_method.type.value_counts()"
   ]
  },
  {
   "cell_type": "code",
   "execution_count": 31,
   "metadata": {},
   "outputs": [
    {
     "data": {
      "text/plain": [
       "0      give me a sample code to update  students details\n",
       "1       give me a sample code to Delete students details\n",
       "2          give me a sample code to add students details\n",
       "3      give me a sample code to get all students details\n",
       "4      Provide a sample OpenAPI specification for a R...\n",
       "                             ...                        \n",
       "188    Draft an OpenAPI specification for a REST API ...\n",
       "189    Create an OpenAPI specification for a REST API...\n",
       "190    Generate an OpenAPI specification for a REST A...\n",
       "191    API that retrieves information about student c...\n",
       "192    Write OpenAPI specification for a REST API tha...\n",
       "Name: query, Length: 193, dtype: object"
      ]
     },
     "execution_count": 31,
     "metadata": {},
     "output_type": "execute_result"
    }
   ],
   "source": [
    "text_data_method = raw_df_method['query']\n",
    "\n",
    "text_data_method"
   ]
  },
  {
   "cell_type": "code",
   "execution_count": 32,
   "metadata": {},
   "outputs": [
    {
     "name": "stderr",
     "output_type": "stream",
     "text": [
      "Error during conversion: ValueError('Queue is full! Please try again.')\n"
     ]
    },
    {
     "data": {
      "text/plain": [
       "(193, 768)"
      ]
     },
     "execution_count": 32,
     "metadata": {},
     "output_type": "execute_result"
    }
   ],
   "source": [
    "from sentence_transformers import SentenceTransformer\n",
    "# initialize sentence transformer model\n",
    "model_method = SentenceTransformer('bert-base-nli-mean-tokens')\n",
    "# create sentence embeddings\n",
    "sentence_embeddings_method = model_method.encode(text_data_method)\n",
    "sentence_embeddings_method.shape"
   ]
  },
  {
   "cell_type": "code",
   "execution_count": 33,
   "metadata": {},
   "outputs": [],
   "source": [
    "import faiss"
   ]
  },
  {
   "cell_type": "code",
   "execution_count": 34,
   "metadata": {},
   "outputs": [],
   "source": [
    "d_method = sentence_embeddings_method.shape[1]\n",
    "index_method = faiss.IndexFlatIP(d_method)"
   ]
  },
  {
   "cell_type": "code",
   "execution_count": 35,
   "metadata": {},
   "outputs": [
    {
     "data": {
      "text/plain": [
       "True"
      ]
     },
     "execution_count": 35,
     "metadata": {},
     "output_type": "execute_result"
    }
   ],
   "source": [
    "index_method.is_trained"
   ]
  },
  {
   "cell_type": "code",
   "execution_count": 36,
   "metadata": {},
   "outputs": [],
   "source": [
    "index_method.add(sentence_embeddings_method)"
   ]
  },
  {
   "cell_type": "code",
   "execution_count": 37,
   "metadata": {},
   "outputs": [],
   "source": [
    "def Function_Faiss_Method(sentence_method):\n",
    "   k_method = 1\n",
    "   xq_method = model_method.encode([sentence_method])\n",
    "   D_method, I_method = index_method.search(xq_method, k_method) \n",
    "   print(I_method)\n",
    "   return methods[raw_df_method['type'][I_method[0][0]]]\n"
   ]
  },
  {
   "cell_type": "code",
   "execution_count": 38,
   "metadata": {},
   "outputs": [],
   "source": [
    "def Function_Faiss_Method_Open_Ai(sentence_method):\n",
    "    Methods_type = []\n",
    "    k_method = 4\n",
    "    xq_method = model_method.encode([sentence_method])\n",
    "    D_method, I_method = index_method.search(xq_method, k_method) \n",
    "    for types in I_method[0]:\n",
    "        Methods_type.append(methods[raw_df_method['type'][types]])\n",
    "\n",
    "    return Methods_type\n",
    "    "
   ]
  }
 ],
 "metadata": {
  "kernelspec": {
   "display_name": "base",
   "language": "python",
   "name": "python3"
  },
  "language_info": {
   "codemirror_mode": {
    "name": "ipython",
    "version": 3
   },
   "file_extension": ".py",
   "mimetype": "text/x-python",
   "name": "python",
   "nbconvert_exporter": "python",
   "pygments_lexer": "ipython3",
   "version": "3.11.5"
  }
 },
 "nbformat": 4,
 "nbformat_minor": 2
}
