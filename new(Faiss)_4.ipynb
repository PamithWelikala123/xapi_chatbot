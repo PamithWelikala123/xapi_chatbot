{
 "cells": [
  {
   "cell_type": "code",
   "execution_count": 32,
   "metadata": {
    "tags": []
   },
   "outputs": [],
   "source": [
    "Array= ['menus','menu/id','orders','orders/id','inventory','notifications','stores','loyality']"
   ]
  },
  {
   "cell_type": "code",
   "execution_count": 34,
   "metadata": {},
   "outputs": [],
   "source": [
    "methods =[\n",
    "    ['post','get'],\n",
    "    ['get','put','delete'],\n",
    "    ['post','get'],\n",
    "    ['get','put','delete'],\n",
    "    ['post','get'],\n",
    "    ['post','get'],\n",
    "    ['post','get'],\n",
    "    ['post','get'],\n",
    "          ]"
   ]
  },
  {
   "cell_type": "code",
   "execution_count": 35,
   "metadata": {},
   "outputs": [],
   "source": [
    "tags =[\n",
    "        'menu',\n",
    "        'menu',\n",
    "        'order',\n",
    "        'order',\n",
    "        'inventory',\n",
    "        'notification',\n",
    "        'store',\n",
    "        'loyalty programs'\n",
    "\n",
    "      ]"
   ]
  },
  {
   "cell_type": "code",
   "execution_count": 36,
   "metadata": {},
   "outputs": [],
   "source": [
    "des = [\n",
    "        ['Create a new menu','Finds all menus'],\n",
    "        ['Returns a single menu','Update a menu in coffee shop','Deletes a menu'],\n",
    "        ['Creates a new order','Finds all orders'],\n",
    "        ['Returns a single order','Updates an order','Deletes an order'],\n",
    "        ['Add a new Item to the inventory','Returns the inventory items'],\n",
    "        ['Creates a new notification','Get all notifications'],\n",
    "        ['Creates a new store','Finds all stores'],\n",
    "        ['Creates a new loyalty program','Finds all loyalty programs'],\n",
    "      ]"
   ]
  },
  {
   "cell_type": "code",
   "execution_count": 37,
   "metadata": {},
   "outputs": [],
   "source": [
    "summ = [\n",
    "        ['','Finds all menus'],\n",
    "        ['Find menu by ID','Updates a menu','Deletes a menu'],\n",
    "        ['Creates a new order','Finds all orders'],\n",
    "        ['Find order by ID','Updates an order','Deletes an order'],\n",
    "        ['Add a new Item to the inventory','Updates an order','Returns the inventory items'],\n",
    "        ['Creates a new notification',' Get all notifications'],\n",
    "        ['Creates a new store',' Finds all stores'],\n",
    "        ['Creates a new loyalty program','Finds all loyalty programs'],\n",
    "      \n",
    "         \n",
    "      ]"
   ]
  },
  {
   "cell_type": "code",
   "execution_count": 38,
   "metadata": {},
   "outputs": [],
   "source": [
    "empty_indices = []  # To store the indices of empty lists"
   ]
  },
  {
   "cell_type": "code",
   "execution_count": 39,
   "metadata": {},
   "outputs": [],
   "source": [
    "for i in range(len(Array)):\n",
    "    if (des[i][0]) == '' and (summ[i][0]) == '':\n",
    "        empty_indices.append(i)"
   ]
  },
  {
   "cell_type": "code",
   "execution_count": 40,
   "metadata": {},
   "outputs": [],
   "source": [
    "for i in range(len(empty_indices)):\n",
    "    for x in range(len(methods[i])):\n",
    "        \n",
    "        if methods[empty_indices[i]][x] == 'get':\n",
    "               \n",
    "               des[empty_indices[i]][x] = 'get'+ ' ' + Array[empty_indices[i]]+ ' ' + 'details'\n",
    "\n",
    "        elif methods[empty_indices[i]][x] == 'post':\n",
    "               \n",
    "               des[empty_indices[i]][x] = 'add'+ ' '  + Array[i] + ' ' + 'details'\n",
    "               \n",
    "        elif methods[empty_indices[i]][x] == 'put':\n",
    "                            \n",
    "                des[empty_indices[i]][x] = 'update'+ ' '  + Array[i] + ' ' + 'details'\n",
    "                 \n",
    "        elif methods[empty_indices[i]][x] == 'delete':\n",
    "               \n",
    "                des[empty_indices[i]][x] = 'delete'+ ' '  + Array[i] +  ' ' + 'details'\n",
    "             \n",
    "        else: \n",
    "             \n",
    "                des[i][x] =Array[i] \n",
    "              "
   ]
  },
  {
   "cell_type": "code",
   "execution_count": 41,
   "metadata": {},
   "outputs": [],
   "source": [
    "appenddocs = [' , '.join(sublist) for sublist in des]"
   ]
  },
  {
   "cell_type": "code",
   "execution_count": 42,
   "metadata": {},
   "outputs": [],
   "source": [
    "appenddocs_summery = [' , '.join(sublist) for sublist in summ]"
   ]
  },
  {
   "cell_type": "code",
   "execution_count": 43,
   "metadata": {},
   "outputs": [],
   "source": [
    "full_doc=[]"
   ]
  },
  {
   "cell_type": "code",
   "execution_count": 44,
   "metadata": {},
   "outputs": [],
   "source": [
    "for i in range(len(Array)):\n",
    "    # Concatenate corresponding elements from first and second lists\n",
    "    full_doc.append({\"path_name\": Array[i] ,\"description\": appenddocs[i], \"summery\": appenddocs_summery[i] })\n"
   ]
  },
  {
   "cell_type": "code",
   "execution_count": 48,
   "metadata": {},
   "outputs": [
    {
     "data": {
      "text/plain": [
       "[{'path_name': 'menus',\n",
       "  'description': 'Create a new menu , Finds all menus',\n",
       "  'summery': ' , Finds all menus'},\n",
       " {'path_name': 'menu/id',\n",
       "  'description': 'Returns a single menu , Update a menu in coffee shop , Deletes a menu',\n",
       "  'summery': 'Find menu by ID , Updates a menu , Deletes a menu'},\n",
       " {'path_name': 'orders',\n",
       "  'description': 'Creates a new order , Finds all orders',\n",
       "  'summery': 'Creates a new order , Finds all orders'},\n",
       " {'path_name': 'orders/id',\n",
       "  'description': 'Returns a single order , Updates an order , Deletes an order',\n",
       "  'summery': 'Find order by ID , Updates an order , Deletes an order'},\n",
       " {'path_name': 'inventory',\n",
       "  'description': 'Add a new Item to the inventory , Returns the inventory items',\n",
       "  'summery': 'Add a new Item to the inventory , Updates an order , Returns the inventory items'},\n",
       " {'path_name': 'notifications',\n",
       "  'description': 'Creates a new notification , Get all notifications',\n",
       "  'summery': 'Creates a new notification ,  Get all notifications'},\n",
       " {'path_name': 'stores',\n",
       "  'description': 'Creates a new store , Finds all stores',\n",
       "  'summery': 'Creates a new store ,  Finds all stores'},\n",
       " {'path_name': 'loyality',\n",
       "  'description': 'Creates a new loyalty program , Finds all loyalty programs',\n",
       "  'summery': 'Creates a new loyalty program , Finds all loyalty programs'}]"
      ]
     },
     "execution_count": 48,
     "metadata": {},
     "output_type": "execute_result"
    }
   ],
   "source": [
    "full_doc"
   ]
  },
  {
   "cell_type": "code",
   "execution_count": 49,
   "metadata": {},
   "outputs": [
    {
     "data": {
      "text/plain": [
       "(8, 768)"
      ]
     },
     "execution_count": 49,
     "metadata": {},
     "output_type": "execute_result"
    }
   ],
   "source": [
    "from sentence_transformers import SentenceTransformer\n",
    "# initialize sentence transformer model\n",
    "model = SentenceTransformer('bert-base-nli-mean-tokens')\n",
    "# create sentence embeddings\n",
    "sentence_embeddings = model.encode(full_doc)\n",
    "sentence_embeddings.shape"
   ]
  },
  {
   "cell_type": "code",
   "execution_count": 50,
   "metadata": {},
   "outputs": [],
   "source": [
    "import faiss"
   ]
  },
  {
   "cell_type": "code",
   "execution_count": 51,
   "metadata": {},
   "outputs": [],
   "source": [
    "d = sentence_embeddings.shape[1]\n",
    "index = faiss.IndexFlatIP(d)"
   ]
  },
  {
   "cell_type": "code",
   "execution_count": 52,
   "metadata": {},
   "outputs": [
    {
     "data": {
      "text/plain": [
       "True"
      ]
     },
     "execution_count": 52,
     "metadata": {},
     "output_type": "execute_result"
    }
   ],
   "source": [
    "index.is_trained"
   ]
  },
  {
   "cell_type": "code",
   "execution_count": 53,
   "metadata": {},
   "outputs": [],
   "source": [
    "index.add(sentence_embeddings)"
   ]
  },
  {
   "cell_type": "code",
   "execution_count": 54,
   "metadata": {},
   "outputs": [],
   "source": [
    "import numpy as np\n",
    "from numpy.linalg import norm"
   ]
  },
  {
   "cell_type": "code",
   "execution_count": 55,
   "metadata": {},
   "outputs": [],
   "source": [
    "def Getting_relevent_path(sentence):\n",
    "    k = 1\n",
    "    xq = model.encode([sentence])\n",
    "    D, I = index.search(xq, k)\n",
    "\n",
    "    get_cosine_value =  Get_cosine(xq,I)\n",
    "    Relevent_path = Array[I[0][0]]\n",
    "    Tag = tags[I[0][0]]\n",
    "\n",
    "    return get_cosine_value,Relevent_path,Tag"
   ]
  },
  {
   "cell_type": "code",
   "execution_count": 56,
   "metadata": {},
   "outputs": [],
   "source": [
    "def Get_cosine(xq,I):\n",
    "    cosine = np.dot(sentence_embeddings[I[0]], xq[0]) / (np.linalg.norm(sentence_embeddings[I[0]]) * np.linalg.norm(xq[0]))\n",
    "    cosine_value = cosine[0]  # Extracting the value from the array\n",
    "\n",
    "    return cosine_value"
   ]
  },
  {
   "cell_type": "code",
   "execution_count": 57,
   "metadata": {},
   "outputs": [
    {
     "name": "stderr",
     "output_type": "stream",
     "text": [
      "c:\\Users\\Admin\\anaconda3\\Lib\\site-packages\\huggingface_hub\\file_download.py:149: UserWarning: `huggingface_hub` cache-system uses symlinks by default to efficiently store duplicated files but your machine does not support them in C:\\Users\\Admin\\.cache\\huggingface\\hub\\models--sentence-transformers--bert-base-nli-mean-tokens. Caching files will still work but in a degraded version that might require more space on your disk. This warning can be disabled by setting the `HF_HUB_DISABLE_SYMLINKS_WARNING` environment variable. For more details, see https://huggingface.co/docs/huggingface_hub/how-to-cache#limitations.\n",
      "To support symlinks on Windows, you either need to activate Developer Mode or to run Python as an administrator. In order to see activate developer mode, see this article: https://docs.microsoft.com/en-us/windows/apps/get-started/enable-your-device-for-development\n",
      "  warnings.warn(message)\n"
     ]
    }
   ],
   "source": [
    "def New_user_Method(user_path):\n",
    "     if user_path in Array:\n",
    "         found = False\n",
    "         for index, path in enumerate(Array):\n",
    "               if user_path == path:\n",
    "                    found = True\n",
    "                    path_index = index\n",
    "                    tag = tags[path_index] \n",
    "                    break\n",
    "         \n",
    "\n",
    "     else:\n",
    "          Array.append(user_path)\n",
    "          tags.append('Default')\n",
    "          path_index= int(len(Array))-1\n",
    "          tag = tags[path_index] \n",
    "\n",
    "     return user_path,tag\n",
    "\n",
    "\n"
   ]
  },
  {
   "cell_type": "code",
   "execution_count": 74,
   "metadata": {},
   "outputs": [],
   "source": [
    "#import spacy\n",
    "#import pytextrank\n",
    "\n",
    "#nlp= spacy.load(\"en_core_web_lg\")\n",
    "\n",
    "#nlp.add_pipe(\"textrank\")"
   ]
  },
  {
   "cell_type": "code",
   "execution_count": 75,
   "metadata": {},
   "outputs": [],
   "source": [
    "# def suggesting_name(sentence):\n",
    "#         doc=nlp(sentence)\n",
    "#         phrases_and_ranks = [ \n",
    "#                     (phrase.chunks[0]) for phrase in doc._.phrases\n",
    "#         ]\n",
    "\n",
    "#         if(len(phrases_and_ranks[0])<=3):\n",
    "#                             path = phrases_and_ranks[0]\n",
    "#         else:\n",
    "#                             path = phrases_and_ranks[0][2:]\n",
    "#         path= path.text.replace(\" \", \"_\")\n",
    "#         return path"
   ]
  },
  {
   "cell_type": "code",
   "execution_count": 76,
   "metadata": {},
   "outputs": [
    {
     "name": "stderr",
     "output_type": "stream",
     "text": [
      "Error during conversion: ValueError('Queue is full! Please try again.')\n",
      "Exception in thread Thread-autoconversion:\n",
      "Traceback (most recent call last):\n",
      "  File \"c:\\Users\\Admin\\anaconda3\\Lib\\threading.py\", line 1038, in _bootstrap_inner\n",
      "    self.run()\n",
      "  File \"c:\\Users\\Admin\\anaconda3\\Lib\\threading.py\", line 975, in run\n",
      "    self._target(*self._args, **self._kwargs)\n",
      "  File \"c:\\Users\\Admin\\anaconda3\\Lib\\site-packages\\transformers\\safetensors_conversion.py\", line 89, in auto_conversion\n",
      "    sha = get_conversion_pr_reference(api, pretrained_model_name_or_path, **cached_file_kwargs)\n",
      "          ^^^^^^^^^^^^^^^^^^^^^^^^^^^^^^^^^^^^^^^^^^^^^^^^^^^^^^^^^^^^^^^^^^^^^^^^^^^^^^^^^^^^^\n",
      "  File \"c:\\Users\\Admin\\anaconda3\\Lib\\site-packages\\transformers\\safetensors_conversion.py\", line 82, in get_conversion_pr_reference\n",
      "    sha = f\"refs/pr/{pr.num}\"\n",
      "                     ^^^^^^\n",
      "AttributeError: 'NoneType' object has no attribute 'num'\n"
     ]
    }
   ],
   "source": [
    "# name = suggesting_name('Give me a code to update food details')\n",
    "# name"
   ]
  }
 ],
 "metadata": {
  "kernelspec": {
   "display_name": "Python 3 (ipykernel)",
   "language": "python",
   "name": "python3"
  },
  "language_info": {
   "codemirror_mode": {
    "name": "ipython",
    "version": 3
   },
   "file_extension": ".py",
   "mimetype": "text/x-python",
   "name": "python",
   "nbconvert_exporter": "python",
   "pygments_lexer": "ipython3",
   "version": "3.11.5"
  }
 },
 "nbformat": 4,
 "nbformat_minor": 4
}
