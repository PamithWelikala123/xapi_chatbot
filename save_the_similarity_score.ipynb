{
 "cells": [
  {
   "cell_type": "code",
   "execution_count": 17,
   "metadata": {},
   "outputs": [],
   "source": [
    "import csv"
   ]
  },
  {
   "cell_type": "code",
   "execution_count": 26,
   "metadata": {},
   "outputs": [],
   "source": [
    "import pandas as pd\n"
   ]
  },
  {
   "cell_type": "code",
   "execution_count": 27,
   "metadata": {},
   "outputs": [],
   "source": [
    "def similarity_score():\n",
    "    data= pd.read_csv(\"similarity_score.csv\")\n",
    "    text_data = data['Values']\n",
    "    row_count = len(data['Values'])\n",
    "    sum_value = 0\n",
    "    for i in range(row_count):\n",
    "        sum_value = sum_value + float(text_data[i])\n",
    "\n",
    "    predicting_similarity_score = float(sum_value) / row_count\n",
    "    return predicting_similarity_score"
   ]
  },
  {
   "cell_type": "code",
   "execution_count": null,
   "metadata": {},
   "outputs": [],
   "source": [
    "def save_similarity_score(cosine_value):\n",
    "        with open('similarity_score.csv','a', newline='') as file:\n",
    "            cosine_str = str(cosine_value)\n",
    "            file.write(cosine_str)"
   ]
  }
 ],
 "metadata": {
  "kernelspec": {
   "display_name": "base",
   "language": "python",
   "name": "python3"
  },
  "language_info": {
   "codemirror_mode": {
    "name": "ipython",
    "version": 3
   },
   "file_extension": ".py",
   "mimetype": "text/x-python",
   "name": "python",
   "nbconvert_exporter": "python",
   "pygments_lexer": "ipython3",
   "version": "3.11.5"
  }
 },
 "nbformat": 4,
 "nbformat_minor": 2
}
